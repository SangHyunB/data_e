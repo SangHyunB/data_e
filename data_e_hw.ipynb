{
 "cells": [
  {
   "cell_type": "code",
   "execution_count": 21,
   "id": "b9a71e15-5cc2-4a7f-b530-5ca9417bef8c",
   "metadata": {},
   "outputs": [],
   "source": [
    "lovely_loveseat_description=\"Lovely Loveseat. Tufted polyester blend on wood. 32 inches high x 40 inches wide x 30 inches deep. Red or white.\"\n",
    "\n",
    "lovely_loveseat_price = 254.00\n"
   ]
  },
  {
   "cell_type": "code",
   "execution_count": 23,
   "id": "792d41d8-a4aa-4348-ad26-684776cb795c",
   "metadata": {},
   "outputs": [],
   "source": [
    "stylish_settee_description = \"Stylish Settee. Faux leather on birch. 29.50 inches high x 54.75 inches wide x 28 inches deep. Black.\"\n",
    "\n",
    "stylish_settee_price = 180.50"
   ]
  },
  {
   "cell_type": "code",
   "execution_count": 24,
   "id": "dd8eed21-08c6-4764-b0b2-bcfa9a82406c",
   "metadata": {},
   "outputs": [],
   "source": [
    "luxurious_lamp_description = \"Luxurious Lamp. Glass and iron. 36 inches tall. Brown with cream shade.\"\n",
    "\n",
    "luxurious_lamp_price = 52.15\n"
   ]
  },
  {
   "cell_type": "code",
   "execution_count": 43,
   "id": "870d799c-ffc4-46b9-8616-423f9a05c3b0",
   "metadata": {},
   "outputs": [],
   "source": [
    "sales_tax  = 0.088\n",
    "\n",
    "customer_one_total=0\n",
    "\n",
    "customer_one_itemization =\"\"\n",
    "\n",
    "customer_one_total+=lovely_loveseat_price\n",
    "\n",
    "customer_one_itemization=lovely_loveseat_description\n",
    "\n",
    "customer_one_total+=luxurious_lamp_price \n",
    "\n",
    "customer_one_itemization+=luxurious_lamp_description \n",
    "\n",
    "customer_one_tax = customer_one_total*sales_tax\n",
    "\n",
    "customer_one_total+=customer_one_tax"
   ]
  },
  {
   "cell_type": "code",
   "execution_count": 44,
   "id": "b689700b-7854-4ba5-b2ee-6824eb9a21fc",
   "metadata": {},
   "outputs": [
    {
     "name": "stdout",
     "output_type": "stream",
     "text": [
      "Customer One Items:\n",
      "Lovely Loveseat. Tufted polyester blend on wood. 32 inches high x 40 inches wide x 30 inches deep. Red or white.Luxurious Lamp. Glass and iron. 36 inches tall. Brown with cream shade.\n",
      "Customer One Total:\n",
      "333.091200\n"
     ]
    }
   ],
   "source": [
    "\n",
    "print(\"Customer One Items:\\n%s\" %customer_one_itemization)\n",
    "\n",
    "print(\"Customer One Total:\\n%lf\" %customer_one_total)\n",
    "    "
   ]
  },
  {
   "cell_type": "code",
   "execution_count": null,
   "id": "d3d97ea7-da74-41d3-a379-edc584674d7d",
   "metadata": {},
   "outputs": [],
   "source": []
  }
 ],
 "metadata": {
  "kernelspec": {
   "display_name": "Python 3",
   "language": "python",
   "name": "python3"
  },
  "language_info": {
   "codemirror_mode": {
    "name": "ipython",
    "version": 3
   },
   "file_extension": ".py",
   "mimetype": "text/x-python",
   "name": "python",
   "nbconvert_exporter": "python",
   "pygments_lexer": "ipython3",
   "version": "3.8.8"
  }
 },
 "nbformat": 4,
 "nbformat_minor": 5
}
