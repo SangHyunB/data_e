{
 "cells": [
  {
   "cell_type": "code",
   "execution_count": 8,
   "id": "180bbd46-9972-4101-958a-eafa3ca2c99c",
   "metadata": {},
   "outputs": [],
   "source": [
    "import numpy as np"
   ]
  },
  {
   "cell_type": "code",
   "execution_count": 15,
   "id": "6495ae45-52a7-4de8-b6d1-19a55223205b",
   "metadata": {},
   "outputs": [],
   "source": [
    "n_month=['쌍', '쇠', '복', '돌', '팽', '육', '쌍', '개', '칠', '갑', '삼', '방']\n",
    "n_day=['봉', '구', '욕', '포', '똥', '삼', '식', '석', '놈', '님', '년', '돌', '단', '득', '방', '질', '장', '걸', '래', '룡', '동', '순', '자', '박', '창', '언', '것', '포', '만', '단', '국']"
   ]
  },
  {
   "cell_type": "code",
   "execution_count": 16,
   "id": "3591ad57-30ff-4756-88e5-b0a463f562b0",
   "metadata": {},
   "outputs": [
    {
     "name": "stdout",
     "output_type": "stream",
     "text": [
      "변돌석\n"
     ]
    }
   ],
   "source": [
    "def get_my_chosun_name(name, month, day):\n",
    "    return name + n_month[month-1] + n_day[day-1]\n",
    "\n",
    "myname=get_my_chosun_name(\"변\",4,8)\n",
    "\n",
    "print(myname)"
   ]
  }
 ],
 "metadata": {
  "kernelspec": {
   "display_name": "Python 3",
   "language": "python",
   "name": "python3"
  },
  "language_info": {
   "codemirror_mode": {
    "name": "ipython",
    "version": 3
   },
   "file_extension": ".py",
   "mimetype": "text/x-python",
   "name": "python",
   "nbconvert_exporter": "python",
   "pygments_lexer": "ipython3",
   "version": "3.8.8"
  }
 },
 "nbformat": 4,
 "nbformat_minor": 5
}
